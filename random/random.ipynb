{
 "cells": [
  {
   "cell_type": "code",
   "execution_count": 1,
   "metadata": {
    "collapsed": true
   },
   "outputs": [],
   "source": [
    "import numpy as np"
   ]
  },
  {
   "cell_type": "code",
   "execution_count": 2,
   "metadata": {},
   "outputs": [],
   "source": [
    "array = np.random.randint(1, 7, size=(1000000,1))\n",
    "x1 =[1,2,3]\n",
    "x2 =[ 4,5]\n",
    "x3 = [6]\n",
    "\n",
    "# print(array)"
   ]
  },
  {
   "cell_type": "code",
   "execution_count": 3,
   "metadata": {},
   "outputs": [],
   "source": [
    "# x2prob = np.count_nonzero((array<6)*1 == 0)/len(array)\n",
    "# x3prob = np.count_nonzero((array<x2)*1 == 0)/len(array)"
   ]
  },
  {
   "cell_type": "code",
   "execution_count": 4,
   "metadata": {},
   "outputs": [
    {
     "name": "stdout",
     "output_type": "stream",
     "text": [
      "[     0 166625 166940 166354 166874 166380 166827]\n1000000\n"
     ]
    }
   ],
   "source": [
    "bins = np.bincount(array.squeeze())\n",
    "print(bins)\n",
    "print(len(array))"
   ]
  },
  {
   "cell_type": "code",
   "execution_count": 5,
   "metadata": {},
   "outputs": [],
   "source": [
    "x1prob = bins[x1]/len(array)\n",
    "x2prob = bins[x2]/len(array)\n",
    "x3prob = bins[x3]/len(array)"
   ]
  },
  {
   "cell_type": "code",
   "execution_count": 46,
   "metadata": {},
   "outputs": [
    {
     "name": "stdout",
     "output_type": "stream",
     "text": [
      "0.499695\n0.333139\n0.167166\n0.5   0.3333333333333333   0.16666666666666666\n"
     ]
    }
   ],
   "source": [
    "print(sum(x1prob))\n",
    "print(sum(x2prob))\n",
    "print(sum(x3prob))\n",
    "assert sum(x1prob)+ sum(x2prob)+sum(x3prob) == 1\n",
    "print(str(1/2) +'   '+ str(1/3) + '   '+ str(1/6))"
   ]
  },
  {
   "cell_type": "code",
   "execution_count": null,
   "metadata": {},
   "outputs": [],
   "source": [
    ""
   ]
  }
 ],
 "metadata": {
  "kernelspec": {
   "display_name": "Python 2",
   "language": "python",
   "name": "python2"
  },
  "language_info": {
   "codemirror_mode": {
    "name": "ipython",
    "version": 2
   },
   "file_extension": ".py",
   "mimetype": "text/x-python",
   "name": "python",
   "nbconvert_exporter": "python",
   "pygments_lexer": "ipython2",
   "version": "2.7.6"
  }
 },
 "nbformat": 4,
 "nbformat_minor": 0
}
