{
 "cells": [
  {
   "cell_type": "code",
   "execution_count": 7,
   "metadata": {
    "collapsed": true
   },
   "outputs": [],
   "source": [
    "import numpy as np\n",
    "import random"
   ]
  },
  {
   "cell_type": "code",
   "execution_count": 3,
   "metadata": {},
   "outputs": [],
   "source": [
    "district = np.arange(1,11,1)"
   ]
  },
  {
   "cell_type": "code",
   "execution_count": 6,
   "metadata": {},
   "outputs": [
    {
     "name": "stdout",
     "output_type": "stream",
     "text": [
      "296.0\n"
     ]
    }
   ],
   "source": [
    "force_draw = np.ceil(100/district)\n",
    "num_votes_needed = np.sum(force_draw)\n",
    "print(num_votes_needed)"
   ]
  },
  {
   "cell_type": "code",
   "execution_count": 9,
   "metadata": {},
   "outputs": [
    {
     "data": {
      "text/plain": [
       "[3, 1]"
      ]
     },
     "execution_count": 9,
     "metadata": {},
     "output_type": "execute_result"
    }
   ],
   "source": [
    "random.sample(range(1,11),2)"
   ]
  },
  {
   "cell_type": "code",
   "execution_count": 2,
   "metadata": {},
   "outputs": [],
   "source": [
    "def f(n,s):\n",
    "    if n == 1:\n",
    "        yield (s,)\n",
    "    else:\n",
    "        for i in range(s + 1):\n",
    "            for j in f(n - 1,s - i):\n",
    "                yield (i,) + j\n"
   ]
  },
  {
   "cell_type": "code",
   "execution_count": 3,
   "metadata": {},
   "outputs": [
    {
     "name": "stdout",
     "output_type": "stream",
     "text": [
      "total permutations: 5151\n(0, 0, 100)\n(0, 1, 99)\n(0, 2, 98)\n(0, 3, 97)\n(0, 4, 96)\n(0, 5, 95)\n(0, 6, 94)\n(0, 7, 93)\n(0, 8, 92)\n(0, 9, 91)\n(97, 0, 3)\n(97, 1, 2)\n(97, 2, 1)\n(97, 3, 0)\n(98, 0, 2)\n(98, 1, 1)\n(98, 2, 0)\n(99, 0, 1)\n(99, 1, 0)\n(100, 0, 0)\n"
     ]
    }
   ],
   "source": [
    "\n",
    "L = list(f(3,100))\n",
    "print('total permutations:', len(L))\n",
    "\n",
    "# First and last 10 of list\n",
    "for i in L[:10] + L[-10:]:\n",
    "    print(i)"
   ]
  },
  {
   "cell_type": "code",
   "execution_count": 5,
   "metadata": {},
   "outputs": [
    {
     "data": {
      "text/plain": [
       "0"
      ]
     },
     "execution_count": 5,
     "metadata": {},
     "output_type": "execute_result"
    }
   ],
   "source": [
    "def compare(all_perms,num_district):\n",
    "    "
   ]
  },
  {
   "cell_type": "code",
   "execution_count": 12,
   "metadata": {},
   "outputs": [
    {
     "name": "stdout",
     "output_type": "stream",
     "text": [
      "[[  0   0 100]\n [  0   1  99]\n [  0   2  98]\n ..., \n [ 99   0   1]\n [ 99   1   0]\n [100   0   0]]\n"
     ]
    }
   ],
   "source": [
    "import numpy as np\n",
    "L = np.array(L, dtype='int')\n",
    "print(L)"
   ]
  },
  {
   "cell_type": "code",
   "execution_count": 45,
   "metadata": {},
   "outputs": [],
   "source": [
    "compare = L*np.array([1,2,3])\n",
    "compare[1]\n",
    "cp = L"
   ]
  },
  {
   "cell_type": "code",
   "execution_count": 49,
   "metadata": {},
   "outputs": [
    {
     "data": {
      "text/plain": [
       "array([  0,   2, 297])"
      ]
     },
     "execution_count": 49,
     "metadata": {},
     "output_type": "execute_result"
    }
   ],
   "source": [
    "# test = (compare[1] < L) * 1\n",
    "# print(test)\n",
    "for idx, value in enumerate(compare[1]):\n",
    "    if L[0][idx] < L[1][idx]:\n",
    "        if compare[0][idx] < L[1][idx]:\n",
    "            # cp[0][idx] = True\n",
    "            print('True')\n",
    "        else:\n",
    "            # cp[0][idx] = False\n",
    "            print('False')\n",
    "compare[1]"
   ]
  },
  {
   "cell_type": "code",
   "execution_count": 37,
   "metadata": {},
   "outputs": [
    {
     "data": {
      "text/plain": [
       "array([False, False, False], dtype=bool)"
      ]
     },
     "execution_count": 37,
     "metadata": {},
     "output_type": "execute_result"
    }
   ],
   "source": [
    "compare[1]<L[0]"
   ]
  },
  {
   "cell_type": "code",
   "execution_count": 28,
   "metadata": {},
   "outputs": [
    {
     "data": {
      "text/plain": [
       "array([1, 1, 0])"
      ]
     },
     "execution_count": 28,
     "metadata": {},
     "output_type": "execute_result"
    }
   ],
   "source": [
    "test[105]"
   ]
  },
  {
   "cell_type": "code",
   "execution_count": 34,
   "metadata": {},
   "outputs": [
    {
     "data": {
      "text/plain": [
       "(array([ 104,  105,  106, ..., 5139, 5140, 5144], dtype=int64),)"
      ]
     },
     "execution_count": 34,
     "metadata": {},
     "output_type": "execute_result"
    }
   ],
   "source": [
    "np.where(test.sum(axis=1) > 1)"
   ]
  },
  {
   "cell_type": "code",
   "execution_count": null,
   "metadata": {},
   "outputs": [],
   "source": []
  }
 ],
 "metadata": {
  "kernelspec": {
   "display_name": "Python 2",
   "language": "python",
   "name": "python2"
  },
  "language_info": {
   "codemirror_mode": {
    "name": "ipython",
    "version": 2
   },
   "file_extension": ".py",
   "mimetype": "text/x-python",
   "name": "python",
   "nbconvert_exporter": "python",
   "pygments_lexer": "ipython2",
   "version": "2.7.6"
  }
 },
 "nbformat": 4,
 "nbformat_minor": 0
}
