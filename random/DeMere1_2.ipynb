{
 "cells": [
  {
   "cell_type": "code",
   "execution_count": 2,
   "metadata": {
    "collapsed": true
   },
   "outputs": [],
   "source": [
    "import numpy as np\n",
    "import matplotlib.pyplot as plt"
   ]
  },
  {
   "cell_type": "markdown",
   "metadata": {},
   "source": [
    "The following cell illustrates the following. Try rolling a fair die 4 times in a row. What are the chances of landing a 6 at least once?\n",
    "\n",
    "This is:\n",
    "\n",
    "$$1-(5/6)^4 = 0.5177 $$\n",
    "\n",
    "Which means... The chance of <b> not </b> rolling a 6, which is 5/6 each time (4 times), and subtracting from 1."
   ]
  },
  {
   "cell_type": "code",
   "execution_count": 3,
   "metadata": {
    "collapsed": false
   },
   "outputs": [
    {
     "data": {
      "text/plain": [
       "0.5075"
      ]
     },
     "execution_count": 3,
     "metadata": {},
     "output_type": "execute_result"
    }
   ],
   "source": [
    "counter = 0\n",
    "#m is the number of iterations\n",
    "m = 10000\n",
    "for count in range(m):\n",
    "    array = np.random.randint(1,7,size=4)\n",
    "#     print(array)\n",
    "    # do we get a 6 in 4 dice rolls?\n",
    "    if sum((array == 6)*1) >=1:\n",
    "        counter+=1\n",
    "\n",
    "counter/m"
   ]
  },
  {
   "cell_type": "markdown",
   "metadata": {},
   "source": [
    "The second De Mere program simulates a pair of sixes will occur in <i> n</i> rolls of the dice\n",
    "\n",
    "The probability of <b> not </b> rolling a pair of sixes is 35/36. Thus if we are gambling and want our odds better than 50%, we would play if the minimum n that satisfies:\n",
    "\n",
    "$$ 1-(35/36)^n >= 0.50 $$\n",
    "\n",
    "Luckily, we can solve this:\n",
    "\n",
    "$$0.50 = (35/36)^n $$\n",
    "\n",
    "$$ln(0.5) = n*ln(35/36)$$\n",
    "\n",
    "$$n = ln(0.5)/ln(35/36) ~ = 24.605$$\n",
    "\n",
    "So you would play if the number of rolls was 25 or greater.\n",
    "\n",
    "Let's see this in some code:"
   ]
  },
  {
   "cell_type": "code",
   "execution_count": 4,
   "metadata": {
    "collapsed": false
   },
   "outputs": [],
   "source": [
    "#n= number of rolls\n",
    "n = np.arange(1,101)\n",
    "# m is the number of trials for a particular roll\n",
    "count_list = []\n",
    "for rolls in n:\n",
    "\n",
    "#     the line below simulates rolling a pair of dice n times\n",
    "    die1 = np.random.randint(1,7,size=rolls)\n",
    "    die2 = np.random.randint(1,7,size=rolls)\n",
    "    sumdice= die1+die2\n",
    "\n",
    "    count_list.append(sum((sumdice == 12)*1))"
   ]
  },
  {
   "cell_type": "code",
   "execution_count": 5,
   "metadata": {
    "collapsed": false
   },
   "outputs": [
    {
     "data": {
      "image/png": "[encoded data removed]",
      "text/plain": [
       "<matplotlib.figure.Figure at 0x242f68b82e8>"
      ]
     },
     "metadata": {},
     "output_type": "display_data"
    }
   ],
   "source": [
    "plt.plot(count_list)\n",
    "plt.plot(n/36)\n",
    "plt.ylabel('frequency')\n",
    "plt.xlabel('number of rolls')\n",
    "plt.show()\n"
   ]
  },
  {
   "cell_type": "markdown",
   "metadata": {},
   "source": [
    "Now let's redo this with multiple trials per roll:"
   ]
  },
  {
   "cell_type": "code",
   "execution_count": 16,
   "metadata": {
    "collapsed": false
   },
   "outputs": [
    {
     "name": "stdout",
     "output_type": "stream",
     "text": [
      "5\n"
     ]
    },
    {
     "name": "stdout",
     "output_type": "stream",
     "text": [
      "10\n"
     ]
    },
    {
     "name": "stdout",
     "output_type": "stream",
     "text": [
      "15\n"
     ]
    },
    {
     "name": "stdout",
     "output_type": "stream",
     "text": [
      "20\n"
     ]
    },
    {
     "name": "stdout",
     "output_type": "stream",
     "text": [
      "25\n"
     ]
    },
    {
     "name": "stdout",
     "output_type": "stream",
     "text": [
      "30\n"
     ]
    },
    {
     "name": "stdout",
     "output_type": "stream",
     "text": [
      "35\n"
     ]
    },
    {
     "name": "stdout",
     "output_type": "stream",
     "text": [
      "40\n"
     ]
    },
    {
     "name": "stdout",
     "output_type": "stream",
     "text": [
      "45\n"
     ]
    },
    {
     "name": "stdout",
     "output_type": "stream",
     "text": [
      "50\n"
     ]
    }
   ],
   "source": [
    "#n= number of rolls\n",
    "\n",
    "n = np.arange(1,51)\n",
    "# m is the number of trials for a particular roll\n",
    "m = 100000\n",
    "count_list = []\n",
    "for rolls in n:\n",
    "    # print every 5 rolls\n",
    "    if (rolls+1) % 5 == 1:\n",
    "        print(rolls)\n",
    "    counter = 0\n",
    "    for trials in range(m):\n",
    "\n",
    "        # the line below simulates rolling a pair of dice n times\n",
    "        die1 = np.random.randint(1,7,size=rolls)\n",
    "        die2 = np.random.randint(1,7,size=rolls)\n",
    "        sumdice= die1+die2\n",
    "#         if there is a 12 in the array, then we add it to the counter\n",
    "        if sum((sumdice == 12)*1)>=1:\n",
    "            counter+=1\n",
    "    # At the end of all the trials for a particular n, we then calculate the probability and add this to our list\n",
    "    count_list.append(counter/m)"
   ]
  },
  {
   "cell_type": "code",
   "execution_count": 17,
   "metadata": {
    "collapsed": false
   },
   "outputs": [
    {
     "data": {
      "image/png": "[encoded data removed]",
      "text/plain": [
       "<matplotlib.figure.Figure at 0x242f6b098d0>"
      ]
     },
     "metadata": {},
     "output_type": "display_data"
    }
   ],
   "source": [
    "plt.plot(count_list)\n",
    "plt.vlines(x=24.6, ymin=0, ymax=1)\n",
    "plt.hlines(y=0.5, xmin=0, xmax=n.max())\n",
    "plt.title('probability in '+str(m)+' trials')\n",
    "plt.ylabel('probability')\n",
    "plt.xlabel('number of rolls')\n",
    "plt.show()\n"
   ]
  },
  {
   "cell_type": "code",
   "execution_count": 18,
   "metadata": {
    "collapsed": false
   },
   "outputs": [
    {
     "name": "stdout",
     "output_type": "stream",
     "text": [
      "0.49138\n0.50374\n"
     ]
    }
   ],
   "source": [
    "print(count_list[23])  # element 24\n",
    "print(count_list[24])  #element 25"
   ]
  },
  {
   "cell_type": "code",
   "execution_count": null,
   "metadata": {
    "collapsed": true
   },
   "outputs": [],
   "source": []
  }
 ],
 "metadata": {
  "kernelspec": {
   "display_name": "Python [conda root]",
   "language": "python",
   "name": "conda-root-py"
  },
  "language_info": {
   "codemirror_mode": {
    "name": "ipython",
    "version": 3
   },
   "file_extension": ".py",
   "mimetype": "text/x-python",
   "name": "python",
   "nbconvert_exporter": "python",
   "pygments_lexer": "ipython3",
   "version": "3.5.2"
  }
 },
 "nbformat": 4,
 "nbformat_minor": 0
}
